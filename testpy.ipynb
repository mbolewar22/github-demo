{
  "nbformat": 4,
  "nbformat_minor": 0,
  "metadata": {
    "colab": {
      "name": "testpy.ipynb",
      "provenance": [],
      "authorship_tag": "ABX9TyMwA7qyh57xNkLLlRHd4HIm",
      "include_colab_link": true
    },
    "kernelspec": {
      "name": "python3",
      "display_name": "Python 3"
    },
    "language_info": {
      "name": "python"
    }
  },
  "cells": [
    {
      "cell_type": "markdown",
      "metadata": {
        "id": "view-in-github",
        "colab_type": "text"
      },
      "source": [
        "<a href=\"https://colab.research.google.com/github/mbolewar22/github-demo/blob/master/testpy.ipynb\" target=\"_parent\"><img src=\"https://colab.research.google.com/assets/colab-badge.svg\" alt=\"Open In Colab\"/></a>"
      ]
    },
    {
      "cell_type": "code",
      "execution_count": 2,
      "metadata": {
        "colab": {
          "base_uri": "https://localhost:8080/"
        },
        "id": "CanMhuzxK8rf",
        "outputId": "9b76d150-4891-4f52-a432-b17e1adbc11b"
      },
      "outputs": [
        {
          "output_type": "stream",
          "name": "stdout",
          "text": [
            "hello world\n"
          ]
        }
      ],
      "source": [
        "print(\"hello world\")"
      ]
    },
    {
      "cell_type": "code",
      "source": [
        "x=10\n",
        "y=20\n",
        "z=x+y\n",
        "print(z)"
      ],
      "metadata": {
        "colab": {
          "base_uri": "https://localhost:8080/"
        },
        "id": "u7x9cvNNMsf5",
        "outputId": "a777f7f6-fb7b-480a-fd93-c65db00cb767"
      },
      "execution_count": 4,
      "outputs": [
        {
          "output_type": "stream",
          "name": "stdout",
          "text": [
            "30\n"
          ]
        }
      ]
    },
    {
      "cell_type": "code",
      "source": [
        ""
      ],
      "metadata": {
        "id": "oDsfsE7JNa4P"
      },
      "execution_count": null,
      "outputs": []
    },
    {
      "cell_type": "markdown",
      "source": [
        "sample program find even and odd numbers in list"
      ],
      "metadata": {
        "id": "WFsMjpSaNbcW"
      }
    },
    {
      "cell_type": "code",
      "source": [
        "def is_even(lst):\n",
        "  even_lst = []\n",
        "  for ele in lst:\n",
        "    if ele % 2 == 0:\n",
        "      even_lst.append(ele)\n",
        "  return even_lst\n",
        "\n",
        "lst=[10,11,20,21,30,31]\n",
        "result = is_even(lst)\n",
        "print (result)"
      ],
      "metadata": {
        "colab": {
          "base_uri": "https://localhost:8080/"
        },
        "id": "QFaie0hcNhq2",
        "outputId": "6426c2b0-fc4d-474b-f63b-50c555f3f712"
      },
      "execution_count": 6,
      "outputs": [
        {
          "output_type": "stream",
          "name": "stdout",
          "text": [
            "[10, 20, 30]\n"
          ]
        }
      ]
    },
    {
      "cell_type": "code",
      "source": [
        ""
      ],
      "metadata": {
        "id": "sRePPgaOOIBf"
      },
      "execution_count": null,
      "outputs": []
    }
  ]
}